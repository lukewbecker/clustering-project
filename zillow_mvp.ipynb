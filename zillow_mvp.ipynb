{
 "cells": [
  {
   "cell_type": "code",
   "execution_count": 1,
   "metadata": {},
   "outputs": [],
   "source": [
    "#Libraries\n",
    "\n",
    "# ignore warnings\n",
    "import warnings\n",
    "warnings.filterwarnings(\"ignore\")\n",
    "\n",
    "# Wrangling\n",
    "import pandas as pd\n",
    "import numpy as np\n",
    "\n",
    "# preparing\n",
    "from sklearn.model_selection import train_test_split\n",
    "from sklearn.metrics import mean_squared_error, explained_variance_score\n",
    "\n",
    "# modeling and evaluating\n",
    "from sklearn.linear_model import LinearRegression, LassoLars\n",
    "from sklearn.linear_model import TweedieRegressor\n",
    "from sklearn.feature_selection import RFE\n",
    "from sklearn.feature_selection import SelectKBest, f_regression\n",
    "from sklearn.model_selection import learning_curve\n",
    "from sklearn.preprocessing import PolynomialFeatures\n",
    "from sklearn.preprocessing import MinMaxScaler, RobustScaler, StandardScaler\n",
    "from sklearn.preprocessing import PolynomialFeatures\n",
    "\n",
    "# Exploring\n",
    "import scipy.stats as stats\n",
    "import math\n",
    "\n",
    "# Visualizing\n",
    "import matplotlib.pyplot as plt\n",
    "from matplotlib import cm\n",
    "import seaborn as sns\n",
    "\n",
    "%matplotlib inline\n",
    "\n",
    "# Add more libraries below this line as needed."
   ]
  },
  {
   "cell_type": "code",
   "execution_count": 2,
   "metadata": {},
   "outputs": [
    {
     "name": "stdout",
     "output_type": "stream",
     "text": [
      "credentials loaded successfully\n",
      "End of file.\n",
      "Loaded zillow wrangle functions successfully.\n",
      "Imported prepare.py successfully\n"
     ]
    }
   ],
   "source": [
    "import os\n",
    "import env\n",
    "import acquire\n",
    "import wrangle\n",
    "import wrangle_zillow_new"
   ]
  },
  {
   "cell_type": "code",
   "execution_count": 3,
   "metadata": {},
   "outputs": [
    {
     "data": {
      "text/plain": [
       "(77381, 70)"
      ]
     },
     "execution_count": 3,
     "metadata": {},
     "output_type": "execute_result"
    }
   ],
   "source": [
    "df = wrangle.get_zillow_data()\n",
    "df.shape"
   ]
  },
  {
   "cell_type": "code",
   "execution_count": 4,
   "metadata": {},
   "outputs": [
    {
     "data": {
      "text/html": [
       "<div>\n",
       "<style scoped>\n",
       "    .dataframe tbody tr th:only-of-type {\n",
       "        vertical-align: middle;\n",
       "    }\n",
       "\n",
       "    .dataframe tbody tr th {\n",
       "        vertical-align: top;\n",
       "    }\n",
       "\n",
       "    .dataframe thead th {\n",
       "        text-align: right;\n",
       "    }\n",
       "</style>\n",
       "<table border=\"1\" class=\"dataframe\">\n",
       "  <thead>\n",
       "    <tr style=\"text-align: right;\">\n",
       "      <th></th>\n",
       "      <th>parcelid</th>\n",
       "      <th>typeconstructiontypeid</th>\n",
       "      <th>storytypeid</th>\n",
       "      <th>propertylandusetypeid</th>\n",
       "      <th>heatingorsystemtypeid</th>\n",
       "      <th>buildingclasstypeid</th>\n",
       "      <th>architecturalstyletypeid</th>\n",
       "      <th>airconditioningtypeid</th>\n",
       "      <th>id</th>\n",
       "      <th>basementsqft</th>\n",
       "      <th>...</th>\n",
       "      <th>logerror</th>\n",
       "      <th>pid</th>\n",
       "      <th>tdate</th>\n",
       "      <th>airconditioningdesc</th>\n",
       "      <th>architecturalstyledesc</th>\n",
       "      <th>buildingclassdesc</th>\n",
       "      <th>heatingorsystemdesc</th>\n",
       "      <th>propertylandusedesc</th>\n",
       "      <th>storydesc</th>\n",
       "      <th>typeconstructiondesc</th>\n",
       "    </tr>\n",
       "  </thead>\n",
       "  <tbody>\n",
       "    <tr>\n",
       "      <th>0</th>\n",
       "      <td>14297519</td>\n",
       "      <td>NaN</td>\n",
       "      <td>NaN</td>\n",
       "      <td>261.0</td>\n",
       "      <td>NaN</td>\n",
       "      <td>NaN</td>\n",
       "      <td>NaN</td>\n",
       "      <td>NaN</td>\n",
       "      <td>1727539</td>\n",
       "      <td>NaN</td>\n",
       "      <td>...</td>\n",
       "      <td>0.025595</td>\n",
       "      <td>14297519</td>\n",
       "      <td>2017-01-01</td>\n",
       "      <td>NaN</td>\n",
       "      <td>NaN</td>\n",
       "      <td>NaN</td>\n",
       "      <td>NaN</td>\n",
       "      <td>Single Family Residential</td>\n",
       "      <td>NaN</td>\n",
       "      <td>NaN</td>\n",
       "    </tr>\n",
       "    <tr>\n",
       "      <th>1</th>\n",
       "      <td>17052889</td>\n",
       "      <td>NaN</td>\n",
       "      <td>NaN</td>\n",
       "      <td>261.0</td>\n",
       "      <td>NaN</td>\n",
       "      <td>NaN</td>\n",
       "      <td>NaN</td>\n",
       "      <td>NaN</td>\n",
       "      <td>1387261</td>\n",
       "      <td>NaN</td>\n",
       "      <td>...</td>\n",
       "      <td>0.055619</td>\n",
       "      <td>17052889</td>\n",
       "      <td>2017-01-01</td>\n",
       "      <td>NaN</td>\n",
       "      <td>NaN</td>\n",
       "      <td>NaN</td>\n",
       "      <td>NaN</td>\n",
       "      <td>Single Family Residential</td>\n",
       "      <td>NaN</td>\n",
       "      <td>NaN</td>\n",
       "    </tr>\n",
       "    <tr>\n",
       "      <th>2</th>\n",
       "      <td>14186244</td>\n",
       "      <td>NaN</td>\n",
       "      <td>NaN</td>\n",
       "      <td>261.0</td>\n",
       "      <td>NaN</td>\n",
       "      <td>NaN</td>\n",
       "      <td>NaN</td>\n",
       "      <td>NaN</td>\n",
       "      <td>11677</td>\n",
       "      <td>NaN</td>\n",
       "      <td>...</td>\n",
       "      <td>0.005383</td>\n",
       "      <td>14186244</td>\n",
       "      <td>2017-01-01</td>\n",
       "      <td>NaN</td>\n",
       "      <td>NaN</td>\n",
       "      <td>NaN</td>\n",
       "      <td>NaN</td>\n",
       "      <td>Single Family Residential</td>\n",
       "      <td>NaN</td>\n",
       "      <td>NaN</td>\n",
       "    </tr>\n",
       "    <tr>\n",
       "      <th>3</th>\n",
       "      <td>12177905</td>\n",
       "      <td>NaN</td>\n",
       "      <td>NaN</td>\n",
       "      <td>261.0</td>\n",
       "      <td>2.0</td>\n",
       "      <td>NaN</td>\n",
       "      <td>NaN</td>\n",
       "      <td>NaN</td>\n",
       "      <td>2288172</td>\n",
       "      <td>NaN</td>\n",
       "      <td>...</td>\n",
       "      <td>-0.103410</td>\n",
       "      <td>12177905</td>\n",
       "      <td>2017-01-01</td>\n",
       "      <td>NaN</td>\n",
       "      <td>NaN</td>\n",
       "      <td>NaN</td>\n",
       "      <td>Central</td>\n",
       "      <td>Single Family Residential</td>\n",
       "      <td>NaN</td>\n",
       "      <td>NaN</td>\n",
       "    </tr>\n",
       "    <tr>\n",
       "      <th>4</th>\n",
       "      <td>10887214</td>\n",
       "      <td>NaN</td>\n",
       "      <td>NaN</td>\n",
       "      <td>266.0</td>\n",
       "      <td>2.0</td>\n",
       "      <td>NaN</td>\n",
       "      <td>NaN</td>\n",
       "      <td>1.0</td>\n",
       "      <td>1970746</td>\n",
       "      <td>NaN</td>\n",
       "      <td>...</td>\n",
       "      <td>0.006940</td>\n",
       "      <td>10887214</td>\n",
       "      <td>2017-01-01</td>\n",
       "      <td>Central</td>\n",
       "      <td>NaN</td>\n",
       "      <td>NaN</td>\n",
       "      <td>Central</td>\n",
       "      <td>Condominium</td>\n",
       "      <td>NaN</td>\n",
       "      <td>NaN</td>\n",
       "    </tr>\n",
       "  </tbody>\n",
       "</table>\n",
       "<p>5 rows × 70 columns</p>\n",
       "</div>"
      ],
      "text/plain": [
       "   parcelid  typeconstructiontypeid  storytypeid  propertylandusetypeid  \\\n",
       "0  14297519                     NaN          NaN                  261.0   \n",
       "1  17052889                     NaN          NaN                  261.0   \n",
       "2  14186244                     NaN          NaN                  261.0   \n",
       "3  12177905                     NaN          NaN                  261.0   \n",
       "4  10887214                     NaN          NaN                  266.0   \n",
       "\n",
       "   heatingorsystemtypeid  buildingclasstypeid  architecturalstyletypeid  \\\n",
       "0                    NaN                  NaN                       NaN   \n",
       "1                    NaN                  NaN                       NaN   \n",
       "2                    NaN                  NaN                       NaN   \n",
       "3                    2.0                  NaN                       NaN   \n",
       "4                    2.0                  NaN                       NaN   \n",
       "\n",
       "   airconditioningtypeid       id  basementsqft  ...  logerror       pid  \\\n",
       "0                    NaN  1727539           NaN  ...  0.025595  14297519   \n",
       "1                    NaN  1387261           NaN  ...  0.055619  17052889   \n",
       "2                    NaN    11677           NaN  ...  0.005383  14186244   \n",
       "3                    NaN  2288172           NaN  ... -0.103410  12177905   \n",
       "4                    1.0  1970746           NaN  ...  0.006940  10887214   \n",
       "\n",
       "        tdate  airconditioningdesc  architecturalstyledesc  buildingclassdesc  \\\n",
       "0  2017-01-01                  NaN                     NaN                NaN   \n",
       "1  2017-01-01                  NaN                     NaN                NaN   \n",
       "2  2017-01-01                  NaN                     NaN                NaN   \n",
       "3  2017-01-01                  NaN                     NaN                NaN   \n",
       "4  2017-01-01              Central                     NaN                NaN   \n",
       "\n",
       "   heatingorsystemdesc        propertylandusedesc  storydesc  \\\n",
       "0                  NaN  Single Family Residential        NaN   \n",
       "1                  NaN  Single Family Residential        NaN   \n",
       "2                  NaN  Single Family Residential        NaN   \n",
       "3              Central  Single Family Residential        NaN   \n",
       "4              Central                Condominium        NaN   \n",
       "\n",
       "   typeconstructiondesc  \n",
       "0                   NaN  \n",
       "1                   NaN  \n",
       "2                   NaN  \n",
       "3                   NaN  \n",
       "4                   NaN  \n",
       "\n",
       "[5 rows x 70 columns]"
      ]
     },
     "execution_count": 4,
     "metadata": {},
     "output_type": "execute_result"
    }
   ],
   "source": [
    "df.head()"
   ]
  },
  {
   "cell_type": "code",
   "execution_count": 5,
   "metadata": {},
   "outputs": [
    {
     "name": "stdout",
     "output_type": "stream",
     "text": [
      "<class 'pandas.core.frame.DataFrame'>\n",
      "RangeIndex: 77381 entries, 0 to 77380\n",
      "Data columns (total 70 columns):\n",
      " #   Column                        Non-Null Count  Dtype  \n",
      "---  ------                        --------------  -----  \n",
      " 0   parcelid                      77381 non-null  int64  \n",
      " 1   typeconstructiontypeid        222 non-null    float64\n",
      " 2   storytypeid                   50 non-null     float64\n",
      " 3   propertylandusetypeid         77381 non-null  float64\n",
      " 4   heatingorsystemtypeid         49440 non-null  float64\n",
      " 5   buildingclasstypeid           15 non-null     float64\n",
      " 6   architecturalstyletypeid      206 non-null    float64\n",
      " 7   airconditioningtypeid         24953 non-null  float64\n",
      " 8   id                            77381 non-null  int64  \n",
      " 9   basementsqft                  50 non-null     float64\n",
      " 10  bathroomcnt                   77381 non-null  float64\n",
      " 11  bedroomcnt                    77381 non-null  float64\n",
      " 12  buildingqualitytypeid         49672 non-null  float64\n",
      " 13  calculatedbathnbr             76772 non-null  float64\n",
      " 14  decktypeid                    614 non-null    float64\n",
      " 15  finishedfloor1squarefeet      6023 non-null   float64\n",
      " 16  calculatedfinishedsquarefeet  77185 non-null  float64\n",
      " 17  finishedsquarefeet12          73749 non-null  float64\n",
      " 18  finishedsquarefeet13          41 non-null     float64\n",
      " 19  finishedsquarefeet15          3009 non-null   float64\n",
      " 20  finishedsquarefeet50          6023 non-null   float64\n",
      " 21  finishedsquarefeet6           386 non-null    float64\n",
      " 22  fips                          77381 non-null  float64\n",
      " 23  fireplacecnt                  8276 non-null   float64\n",
      " 24  fullbathcnt                   76772 non-null  float64\n",
      " 25  garagecarcnt                  25474 non-null  float64\n",
      " 26  garagetotalsqft               25474 non-null  float64\n",
      " 27  hashottuborspa                1538 non-null   float64\n",
      " 28  latitude                      77381 non-null  float64\n",
      " 29  longitude                     77381 non-null  float64\n",
      " 30  lotsizesquarefeet             69142 non-null  float64\n",
      " 31  poolcnt                       16137 non-null  float64\n",
      " 32  poolsizesum                   867 non-null    float64\n",
      " 33  pooltypeid10                  464 non-null    float64\n",
      " 34  pooltypeid2                   1074 non-null   float64\n",
      " 35  pooltypeid7                   15042 non-null  float64\n",
      " 36  propertycountylandusecode     77381 non-null  object \n",
      " 37  propertyzoningdesc            50331 non-null  object \n",
      " 38  rawcensustractandblock        77381 non-null  float64\n",
      " 39  regionidcity                  75910 non-null  float64\n",
      " 40  regionidcounty                77381 non-null  float64\n",
      " 41  regionidneighborhood          30890 non-null  float64\n",
      " 42  regionidzip                   77331 non-null  float64\n",
      " 43  roomcnt                       77381 non-null  float64\n",
      " 44  threequarterbathnbr           10096 non-null  float64\n",
      " 45  unitcnt                       50563 non-null  float64\n",
      " 46  yardbuildingsqft17            2388 non-null   float64\n",
      " 47  yardbuildingsqft26            70 non-null     float64\n",
      " 48  yearbuilt                     77118 non-null  float64\n",
      " 49  numberofstories               17560 non-null  float64\n",
      " 50  fireplaceflag                 172 non-null    float64\n",
      " 51  structuretaxvaluedollarcnt    77269 non-null  float64\n",
      " 52  taxvaluedollarcnt             77380 non-null  float64\n",
      " 53  assessmentyear                77381 non-null  float64\n",
      " 54  landtaxvaluedollarcnt         77379 non-null  float64\n",
      " 55  taxamount                     77376 non-null  float64\n",
      " 56  taxdelinquencyflag            2886 non-null   object \n",
      " 57  taxdelinquencyyear            2886 non-null   float64\n",
      " 58  censustractandblock           77137 non-null  float64\n",
      " 59  id.1                          77381 non-null  int64  \n",
      " 60  logerror                      77381 non-null  float64\n",
      " 61  pid                           77381 non-null  int64  \n",
      " 62  tdate                         77381 non-null  object \n",
      " 63  airconditioningdesc           24953 non-null  object \n",
      " 64  architecturalstyledesc        206 non-null    object \n",
      " 65  buildingclassdesc             15 non-null     object \n",
      " 66  heatingorsystemdesc           49440 non-null  object \n",
      " 67  propertylandusedesc           77381 non-null  object \n",
      " 68  storydesc                     50 non-null     object \n",
      " 69  typeconstructiondesc          222 non-null    object \n",
      "dtypes: float64(55), int64(4), object(11)\n",
      "memory usage: 41.3+ MB\n"
     ]
    }
   ],
   "source": [
    "df.info()"
   ]
  },
  {
   "cell_type": "code",
   "execution_count": 6,
   "metadata": {},
   "outputs": [
    {
     "data": {
      "text/html": [
       "<div>\n",
       "<style scoped>\n",
       "    .dataframe tbody tr th:only-of-type {\n",
       "        vertical-align: middle;\n",
       "    }\n",
       "\n",
       "    .dataframe tbody tr th {\n",
       "        vertical-align: top;\n",
       "    }\n",
       "\n",
       "    .dataframe thead th {\n",
       "        text-align: right;\n",
       "    }\n",
       "</style>\n",
       "<table border=\"1\" class=\"dataframe\">\n",
       "  <thead>\n",
       "    <tr style=\"text-align: right;\">\n",
       "      <th></th>\n",
       "      <th>parcelid</th>\n",
       "      <th>typeconstructiontypeid</th>\n",
       "      <th>storytypeid</th>\n",
       "      <th>propertylandusetypeid</th>\n",
       "      <th>heatingorsystemtypeid</th>\n",
       "      <th>buildingclasstypeid</th>\n",
       "      <th>architecturalstyletypeid</th>\n",
       "      <th>airconditioningtypeid</th>\n",
       "      <th>id</th>\n",
       "      <th>basementsqft</th>\n",
       "      <th>...</th>\n",
       "      <th>structuretaxvaluedollarcnt</th>\n",
       "      <th>taxvaluedollarcnt</th>\n",
       "      <th>assessmentyear</th>\n",
       "      <th>landtaxvaluedollarcnt</th>\n",
       "      <th>taxamount</th>\n",
       "      <th>taxdelinquencyyear</th>\n",
       "      <th>censustractandblock</th>\n",
       "      <th>id.1</th>\n",
       "      <th>logerror</th>\n",
       "      <th>pid</th>\n",
       "    </tr>\n",
       "  </thead>\n",
       "  <tbody>\n",
       "    <tr>\n",
       "      <th>count</th>\n",
       "      <td>7.738100e+04</td>\n",
       "      <td>222.000000</td>\n",
       "      <td>50.0</td>\n",
       "      <td>77381.000000</td>\n",
       "      <td>49440.000000</td>\n",
       "      <td>15.000000</td>\n",
       "      <td>206.000000</td>\n",
       "      <td>24953.000000</td>\n",
       "      <td>7.738100e+04</td>\n",
       "      <td>50.000000</td>\n",
       "      <td>...</td>\n",
       "      <td>7.726900e+04</td>\n",
       "      <td>7.738000e+04</td>\n",
       "      <td>77381.0</td>\n",
       "      <td>7.737900e+04</td>\n",
       "      <td>77376.000000</td>\n",
       "      <td>2886.000000</td>\n",
       "      <td>7.713700e+04</td>\n",
       "      <td>77381.000000</td>\n",
       "      <td>77381.000000</td>\n",
       "      <td>7.738100e+04</td>\n",
       "    </tr>\n",
       "    <tr>\n",
       "      <th>mean</th>\n",
       "      <td>1.300715e+07</td>\n",
       "      <td>6.040541</td>\n",
       "      <td>7.0</td>\n",
       "      <td>261.826340</td>\n",
       "      <td>3.920510</td>\n",
       "      <td>3.933333</td>\n",
       "      <td>7.388350</td>\n",
       "      <td>1.813289</td>\n",
       "      <td>1.495139e+06</td>\n",
       "      <td>679.720000</td>\n",
       "      <td>...</td>\n",
       "      <td>1.893145e+05</td>\n",
       "      <td>4.901345e+05</td>\n",
       "      <td>2016.0</td>\n",
       "      <td>3.010954e+05</td>\n",
       "      <td>5995.532346</td>\n",
       "      <td>14.087318</td>\n",
       "      <td>6.049673e+13</td>\n",
       "      <td>38848.692754</td>\n",
       "      <td>0.016625</td>\n",
       "      <td>1.300715e+07</td>\n",
       "    </tr>\n",
       "    <tr>\n",
       "      <th>std</th>\n",
       "      <td>3.481346e+06</td>\n",
       "      <td>0.557285</td>\n",
       "      <td>0.0</td>\n",
       "      <td>5.141199</td>\n",
       "      <td>3.592779</td>\n",
       "      <td>0.258199</td>\n",
       "      <td>2.734542</td>\n",
       "      <td>2.967894</td>\n",
       "      <td>8.609071e+05</td>\n",
       "      <td>689.703546</td>\n",
       "      <td>...</td>\n",
       "      <td>2.300874e+05</td>\n",
       "      <td>6.534440e+05</td>\n",
       "      <td>0.0</td>\n",
       "      <td>4.925960e+05</td>\n",
       "      <td>7622.844153</td>\n",
       "      <td>2.185663</td>\n",
       "      <td>1.535242e+12</td>\n",
       "      <td>22402.429065</td>\n",
       "      <td>0.170191</td>\n",
       "      <td>3.481346e+06</td>\n",
       "    </tr>\n",
       "    <tr>\n",
       "      <th>min</th>\n",
       "      <td>1.071186e+07</td>\n",
       "      <td>4.000000</td>\n",
       "      <td>7.0</td>\n",
       "      <td>31.000000</td>\n",
       "      <td>1.000000</td>\n",
       "      <td>3.000000</td>\n",
       "      <td>2.000000</td>\n",
       "      <td>1.000000</td>\n",
       "      <td>3.490000e+02</td>\n",
       "      <td>38.000000</td>\n",
       "      <td>...</td>\n",
       "      <td>4.400000e+01</td>\n",
       "      <td>1.000000e+03</td>\n",
       "      <td>2016.0</td>\n",
       "      <td>1.610000e+02</td>\n",
       "      <td>19.920000</td>\n",
       "      <td>3.000000</td>\n",
       "      <td>6.037101e+13</td>\n",
       "      <td>0.000000</td>\n",
       "      <td>-4.655420</td>\n",
       "      <td>1.071186e+07</td>\n",
       "    </tr>\n",
       "    <tr>\n",
       "      <th>25%</th>\n",
       "      <td>1.153830e+07</td>\n",
       "      <td>6.000000</td>\n",
       "      <td>7.0</td>\n",
       "      <td>261.000000</td>\n",
       "      <td>2.000000</td>\n",
       "      <td>4.000000</td>\n",
       "      <td>7.000000</td>\n",
       "      <td>1.000000</td>\n",
       "      <td>7.520700e+05</td>\n",
       "      <td>273.000000</td>\n",
       "      <td>...</td>\n",
       "      <td>8.426500e+04</td>\n",
       "      <td>2.070000e+05</td>\n",
       "      <td>2016.0</td>\n",
       "      <td>8.550400e+04</td>\n",
       "      <td>2715.632500</td>\n",
       "      <td>14.000000</td>\n",
       "      <td>6.037311e+13</td>\n",
       "      <td>19461.000000</td>\n",
       "      <td>-0.024377</td>\n",
       "      <td>1.153830e+07</td>\n",
       "    </tr>\n",
       "    <tr>\n",
       "      <th>50%</th>\n",
       "      <td>1.253157e+07</td>\n",
       "      <td>6.000000</td>\n",
       "      <td>7.0</td>\n",
       "      <td>261.000000</td>\n",
       "      <td>2.000000</td>\n",
       "      <td>4.000000</td>\n",
       "      <td>7.000000</td>\n",
       "      <td>1.000000</td>\n",
       "      <td>1.497932e+06</td>\n",
       "      <td>515.000000</td>\n",
       "      <td>...</td>\n",
       "      <td>1.364990e+05</td>\n",
       "      <td>3.589755e+05</td>\n",
       "      <td>2016.0</td>\n",
       "      <td>2.033720e+05</td>\n",
       "      <td>4450.695000</td>\n",
       "      <td>15.000000</td>\n",
       "      <td>6.037603e+13</td>\n",
       "      <td>38870.000000</td>\n",
       "      <td>0.006627</td>\n",
       "      <td>1.253157e+07</td>\n",
       "    </tr>\n",
       "    <tr>\n",
       "      <th>75%</th>\n",
       "      <td>1.421183e+07</td>\n",
       "      <td>6.000000</td>\n",
       "      <td>7.0</td>\n",
       "      <td>266.000000</td>\n",
       "      <td>7.000000</td>\n",
       "      <td>4.000000</td>\n",
       "      <td>7.000000</td>\n",
       "      <td>1.000000</td>\n",
       "      <td>2.240535e+06</td>\n",
       "      <td>796.500000</td>\n",
       "      <td>...</td>\n",
       "      <td>2.187870e+05</td>\n",
       "      <td>5.690015e+05</td>\n",
       "      <td>2016.0</td>\n",
       "      <td>3.667965e+05</td>\n",
       "      <td>6927.790000</td>\n",
       "      <td>15.000000</td>\n",
       "      <td>6.059042e+13</td>\n",
       "      <td>58253.000000</td>\n",
       "      <td>0.039203</td>\n",
       "      <td>1.421183e+07</td>\n",
       "    </tr>\n",
       "    <tr>\n",
       "      <th>max</th>\n",
       "      <td>1.676893e+08</td>\n",
       "      <td>13.000000</td>\n",
       "      <td>7.0</td>\n",
       "      <td>275.000000</td>\n",
       "      <td>24.000000</td>\n",
       "      <td>4.000000</td>\n",
       "      <td>21.000000</td>\n",
       "      <td>13.000000</td>\n",
       "      <td>2.982274e+06</td>\n",
       "      <td>3560.000000</td>\n",
       "      <td>...</td>\n",
       "      <td>1.142179e+07</td>\n",
       "      <td>4.906124e+07</td>\n",
       "      <td>2016.0</td>\n",
       "      <td>4.895220e+07</td>\n",
       "      <td>586639.300000</td>\n",
       "      <td>99.000000</td>\n",
       "      <td>4.830301e+14</td>\n",
       "      <td>77613.000000</td>\n",
       "      <td>5.262999</td>\n",
       "      <td>1.676893e+08</td>\n",
       "    </tr>\n",
       "  </tbody>\n",
       "</table>\n",
       "<p>8 rows × 59 columns</p>\n",
       "</div>"
      ],
      "text/plain": [
       "           parcelid  typeconstructiontypeid  storytypeid  \\\n",
       "count  7.738100e+04              222.000000         50.0   \n",
       "mean   1.300715e+07                6.040541          7.0   \n",
       "std    3.481346e+06                0.557285          0.0   \n",
       "min    1.071186e+07                4.000000          7.0   \n",
       "25%    1.153830e+07                6.000000          7.0   \n",
       "50%    1.253157e+07                6.000000          7.0   \n",
       "75%    1.421183e+07                6.000000          7.0   \n",
       "max    1.676893e+08               13.000000          7.0   \n",
       "\n",
       "       propertylandusetypeid  heatingorsystemtypeid  buildingclasstypeid  \\\n",
       "count           77381.000000           49440.000000            15.000000   \n",
       "mean              261.826340               3.920510             3.933333   \n",
       "std                 5.141199               3.592779             0.258199   \n",
       "min                31.000000               1.000000             3.000000   \n",
       "25%               261.000000               2.000000             4.000000   \n",
       "50%               261.000000               2.000000             4.000000   \n",
       "75%               266.000000               7.000000             4.000000   \n",
       "max               275.000000              24.000000             4.000000   \n",
       "\n",
       "       architecturalstyletypeid  airconditioningtypeid            id  \\\n",
       "count                206.000000           24953.000000  7.738100e+04   \n",
       "mean                   7.388350               1.813289  1.495139e+06   \n",
       "std                    2.734542               2.967894  8.609071e+05   \n",
       "min                    2.000000               1.000000  3.490000e+02   \n",
       "25%                    7.000000               1.000000  7.520700e+05   \n",
       "50%                    7.000000               1.000000  1.497932e+06   \n",
       "75%                    7.000000               1.000000  2.240535e+06   \n",
       "max                   21.000000              13.000000  2.982274e+06   \n",
       "\n",
       "       basementsqft  ...  structuretaxvaluedollarcnt  taxvaluedollarcnt  \\\n",
       "count     50.000000  ...                7.726900e+04       7.738000e+04   \n",
       "mean     679.720000  ...                1.893145e+05       4.901345e+05   \n",
       "std      689.703546  ...                2.300874e+05       6.534440e+05   \n",
       "min       38.000000  ...                4.400000e+01       1.000000e+03   \n",
       "25%      273.000000  ...                8.426500e+04       2.070000e+05   \n",
       "50%      515.000000  ...                1.364990e+05       3.589755e+05   \n",
       "75%      796.500000  ...                2.187870e+05       5.690015e+05   \n",
       "max     3560.000000  ...                1.142179e+07       4.906124e+07   \n",
       "\n",
       "       assessmentyear  landtaxvaluedollarcnt      taxamount  \\\n",
       "count         77381.0           7.737900e+04   77376.000000   \n",
       "mean           2016.0           3.010954e+05    5995.532346   \n",
       "std               0.0           4.925960e+05    7622.844153   \n",
       "min            2016.0           1.610000e+02      19.920000   \n",
       "25%            2016.0           8.550400e+04    2715.632500   \n",
       "50%            2016.0           2.033720e+05    4450.695000   \n",
       "75%            2016.0           3.667965e+05    6927.790000   \n",
       "max            2016.0           4.895220e+07  586639.300000   \n",
       "\n",
       "       taxdelinquencyyear  censustractandblock          id.1      logerror  \\\n",
       "count         2886.000000         7.713700e+04  77381.000000  77381.000000   \n",
       "mean            14.087318         6.049673e+13  38848.692754      0.016625   \n",
       "std              2.185663         1.535242e+12  22402.429065      0.170191   \n",
       "min              3.000000         6.037101e+13      0.000000     -4.655420   \n",
       "25%             14.000000         6.037311e+13  19461.000000     -0.024377   \n",
       "50%             15.000000         6.037603e+13  38870.000000      0.006627   \n",
       "75%             15.000000         6.059042e+13  58253.000000      0.039203   \n",
       "max             99.000000         4.830301e+14  77613.000000      5.262999   \n",
       "\n",
       "                pid  \n",
       "count  7.738100e+04  \n",
       "mean   1.300715e+07  \n",
       "std    3.481346e+06  \n",
       "min    1.071186e+07  \n",
       "25%    1.153830e+07  \n",
       "50%    1.253157e+07  \n",
       "75%    1.421183e+07  \n",
       "max    1.676893e+08  \n",
       "\n",
       "[8 rows x 59 columns]"
      ]
     },
     "execution_count": 6,
     "metadata": {},
     "output_type": "execute_result"
    }
   ],
   "source": [
    "df.describe()"
   ]
  },
  {
   "cell_type": "markdown",
   "metadata": {},
   "source": [
    "### First step, remove columns that I know I won't be needing"
   ]
  },
  {
   "cell_type": "code",
   "execution_count": 7,
   "metadata": {},
   "outputs": [
    {
     "data": {
      "text/plain": [
       "airconditioningdesc         52428\n",
       "airconditioningtypeid       52428\n",
       "architecturalstyledesc      77175\n",
       "architecturalstyletypeid    77175\n",
       "assessmentyear                  0\n",
       "                            ...  \n",
       "typeconstructiontypeid      77159\n",
       "unitcnt                     26818\n",
       "yardbuildingsqft17          74993\n",
       "yardbuildingsqft26          77311\n",
       "yearbuilt                     263\n",
       "Length: 70, dtype: int64"
      ]
     },
     "execution_count": 7,
     "metadata": {},
     "output_type": "execute_result"
    }
   ],
   "source": [
    "df.isna().sum().sort_index()"
   ]
  },
  {
   "cell_type": "markdown",
   "metadata": {},
   "source": [
    "A lot of missing values, however I will remove the columns I don't think I'll be needing first, then address missing rows."
   ]
  },
  {
   "cell_type": "code",
   "execution_count": 8,
   "metadata": {},
   "outputs": [
    {
     "data": {
      "text/plain": [
       "(77381, 61)"
      ]
     },
     "execution_count": 8,
     "metadata": {},
     "output_type": "execute_result"
    }
   ],
   "source": [
    "# Dropping columns I don't think I'll need. If I do end up needing them, come back to this point after the MVP is done.\n",
    "\n",
    "df = wrangle.drop_cols(df)\n",
    "df.shape"
   ]
  },
  {
   "cell_type": "code",
   "execution_count": 9,
   "metadata": {},
   "outputs": [],
   "source": [
    "# I need to isolate down to only single unit properties, which equate to this list:\n",
    "\n",
    "id_list = [261.0, 260.0, 262.0, 263.0, 264.0]"
   ]
  },
  {
   "cell_type": "code",
   "execution_count": 10,
   "metadata": {},
   "outputs": [
    {
     "data": {
      "text/plain": [
       "(52244, 61)"
      ]
     },
     "execution_count": 10,
     "metadata": {},
     "output_type": "execute_result"
    }
   ],
   "source": [
    "# Now I have 20k less rows, so good for the most part. Now need to cut down the columns:\n",
    "\n",
    "df = wrangle.prep_data(df, id_list)\n",
    "df.shape"
   ]
  },
  {
   "cell_type": "code",
   "execution_count": 11,
   "metadata": {},
   "outputs": [
    {
     "data": {
      "text/plain": [
       "(52244, 27)"
      ]
     },
     "execution_count": 11,
     "metadata": {},
     "output_type": "execute_result"
    }
   ],
   "source": [
    "df = wrangle.handle_missing_values(df, .5, .5)\n",
    "df.shape"
   ]
  },
  {
   "cell_type": "code",
   "execution_count": 12,
   "metadata": {},
   "outputs": [
    {
     "data": {
      "text/html": [
       "<div>\n",
       "<style scoped>\n",
       "    .dataframe tbody tr th:only-of-type {\n",
       "        vertical-align: middle;\n",
       "    }\n",
       "\n",
       "    .dataframe tbody tr th {\n",
       "        vertical-align: top;\n",
       "    }\n",
       "\n",
       "    .dataframe thead th {\n",
       "        text-align: right;\n",
       "    }\n",
       "</style>\n",
       "<table border=\"1\" class=\"dataframe\">\n",
       "  <thead>\n",
       "    <tr style=\"text-align: right;\">\n",
       "      <th></th>\n",
       "      <th>parcelid</th>\n",
       "      <th>propertylandusetypeid</th>\n",
       "      <th>heatingorsystemtypeid</th>\n",
       "      <th>bathroomcnt</th>\n",
       "      <th>bedroomcnt</th>\n",
       "      <th>buildingqualitytypeid</th>\n",
       "      <th>calculatedfinishedsquarefeet</th>\n",
       "      <th>fips</th>\n",
       "      <th>fullbathcnt</th>\n",
       "      <th>latitude</th>\n",
       "      <th>...</th>\n",
       "      <th>unitcnt</th>\n",
       "      <th>yearbuilt</th>\n",
       "      <th>structuretaxvaluedollarcnt</th>\n",
       "      <th>taxvaluedollarcnt</th>\n",
       "      <th>assessmentyear</th>\n",
       "      <th>landtaxvaluedollarcnt</th>\n",
       "      <th>taxamount</th>\n",
       "      <th>censustractandblock</th>\n",
       "      <th>logerror</th>\n",
       "      <th>tdate</th>\n",
       "    </tr>\n",
       "  </thead>\n",
       "  <tbody>\n",
       "    <tr>\n",
       "      <th>0</th>\n",
       "      <td>14297519</td>\n",
       "      <td>261.0</td>\n",
       "      <td>NaN</td>\n",
       "      <td>3.5</td>\n",
       "      <td>4.0</td>\n",
       "      <td>NaN</td>\n",
       "      <td>3100.0</td>\n",
       "      <td>6059.0</td>\n",
       "      <td>3.0</td>\n",
       "      <td>33.634931</td>\n",
       "      <td>...</td>\n",
       "      <td>1.0</td>\n",
       "      <td>1998.0</td>\n",
       "      <td>485713.0</td>\n",
       "      <td>1023282.0</td>\n",
       "      <td>2016.0</td>\n",
       "      <td>537569.0</td>\n",
       "      <td>11013.72</td>\n",
       "      <td>6.059063e+13</td>\n",
       "      <td>0.025595</td>\n",
       "      <td>2017-01-01</td>\n",
       "    </tr>\n",
       "    <tr>\n",
       "      <th>1</th>\n",
       "      <td>17052889</td>\n",
       "      <td>261.0</td>\n",
       "      <td>NaN</td>\n",
       "      <td>1.0</td>\n",
       "      <td>2.0</td>\n",
       "      <td>NaN</td>\n",
       "      <td>1465.0</td>\n",
       "      <td>6111.0</td>\n",
       "      <td>1.0</td>\n",
       "      <td>34.449266</td>\n",
       "      <td>...</td>\n",
       "      <td>1.0</td>\n",
       "      <td>1967.0</td>\n",
       "      <td>88000.0</td>\n",
       "      <td>464000.0</td>\n",
       "      <td>2016.0</td>\n",
       "      <td>376000.0</td>\n",
       "      <td>5672.48</td>\n",
       "      <td>6.111001e+13</td>\n",
       "      <td>0.055619</td>\n",
       "      <td>2017-01-01</td>\n",
       "    </tr>\n",
       "  </tbody>\n",
       "</table>\n",
       "<p>2 rows × 27 columns</p>\n",
       "</div>"
      ],
      "text/plain": [
       "   parcelid  propertylandusetypeid  heatingorsystemtypeid  bathroomcnt  \\\n",
       "0  14297519                  261.0                    NaN          3.5   \n",
       "1  17052889                  261.0                    NaN          1.0   \n",
       "\n",
       "   bedroomcnt  buildingqualitytypeid  calculatedfinishedsquarefeet    fips  \\\n",
       "0         4.0                    NaN                        3100.0  6059.0   \n",
       "1         2.0                    NaN                        1465.0  6111.0   \n",
       "\n",
       "   fullbathcnt   latitude  ...  unitcnt  yearbuilt structuretaxvaluedollarcnt  \\\n",
       "0          3.0  33.634931  ...      1.0     1998.0                   485713.0   \n",
       "1          1.0  34.449266  ...      1.0     1967.0                    88000.0   \n",
       "\n",
       "   taxvaluedollarcnt  assessmentyear  landtaxvaluedollarcnt  taxamount  \\\n",
       "0          1023282.0          2016.0               537569.0   11013.72   \n",
       "1           464000.0          2016.0               376000.0    5672.48   \n",
       "\n",
       "   censustractandblock  logerror       tdate  \n",
       "0         6.059063e+13  0.025595  2017-01-01  \n",
       "1         6.111001e+13  0.055619  2017-01-01  \n",
       "\n",
       "[2 rows x 27 columns]"
      ]
     },
     "execution_count": 12,
     "metadata": {},
     "output_type": "execute_result"
    }
   ],
   "source": [
    "df.head(2)"
   ]
  },
  {
   "cell_type": "code",
   "execution_count": 13,
   "metadata": {},
   "outputs": [
    {
     "name": "stdout",
     "output_type": "stream",
     "text": [
      "Shape of train df: (35525, 27)\n",
      "Shape of validate df: (8882, 27)\n",
      "Shape of test df: (7837, 27)\n"
     ]
    }
   ],
   "source": [
    "train, validate, test = wrangle.split_zillow_data(df)"
   ]
  },
  {
   "cell_type": "code",
   "execution_count": null,
   "metadata": {
    "scrolled": false
   },
   "outputs": [],
   "source": [
    "# Impute missing values"
   ]
  },
  {
   "cell_type": "code",
   "execution_count": null,
   "metadata": {},
   "outputs": [],
   "source": [
    "# converting fips code to int. Will need to convert to string if I import into Tableau.\n",
    "train['fips'] = train['fips'].astype('int')"
   ]
  },
  {
   "cell_type": "code",
   "execution_count": 15,
   "metadata": {},
   "outputs": [
    {
     "data": {
      "text/plain": [
       "(35525, 28)"
      ]
     },
     "execution_count": 15,
     "metadata": {},
     "output_type": "execute_result"
    }
   ],
   "source": [
    "# \n",
    "\n",
    "conditions = [\n",
    "    (train['fips'] == 6037),\n",
    "    (train['fips'] == 6059),\n",
    "    (train['fips'] == 6111)\n",
    "    ]\n",
    "\n",
    "county_list = ['Los Angeles', 'Orange', 'Ventura']\n",
    "\n",
    "train['county'] = np.select(conditions, county_list)\n",
    "train.shape"
   ]
  },
  {
   "cell_type": "code",
   "execution_count": 16,
   "metadata": {},
   "outputs": [
    {
     "data": {
      "text/html": [
       "<div>\n",
       "<style scoped>\n",
       "    .dataframe tbody tr th:only-of-type {\n",
       "        vertical-align: middle;\n",
       "    }\n",
       "\n",
       "    .dataframe tbody tr th {\n",
       "        vertical-align: top;\n",
       "    }\n",
       "\n",
       "    .dataframe thead th {\n",
       "        text-align: right;\n",
       "    }\n",
       "</style>\n",
       "<table border=\"1\" class=\"dataframe\">\n",
       "  <thead>\n",
       "    <tr style=\"text-align: right;\">\n",
       "      <th></th>\n",
       "      <th>parcelid</th>\n",
       "      <th>propertylandusetypeid</th>\n",
       "      <th>heatingorsystemtypeid</th>\n",
       "      <th>bathroomcnt</th>\n",
       "      <th>bedroomcnt</th>\n",
       "      <th>buildingqualitytypeid</th>\n",
       "      <th>calculatedfinishedsquarefeet</th>\n",
       "      <th>fips</th>\n",
       "      <th>fullbathcnt</th>\n",
       "      <th>latitude</th>\n",
       "      <th>...</th>\n",
       "      <th>yearbuilt</th>\n",
       "      <th>structuretaxvaluedollarcnt</th>\n",
       "      <th>taxvaluedollarcnt</th>\n",
       "      <th>assessmentyear</th>\n",
       "      <th>landtaxvaluedollarcnt</th>\n",
       "      <th>taxamount</th>\n",
       "      <th>censustractandblock</th>\n",
       "      <th>logerror</th>\n",
       "      <th>tdate</th>\n",
       "      <th>county</th>\n",
       "    </tr>\n",
       "  </thead>\n",
       "  <tbody>\n",
       "    <tr>\n",
       "      <th>2002</th>\n",
       "      <td>10947165</td>\n",
       "      <td>261.0</td>\n",
       "      <td>2.0</td>\n",
       "      <td>3.0</td>\n",
       "      <td>3.0</td>\n",
       "      <td>8.0</td>\n",
       "      <td>2273.0</td>\n",
       "      <td>6037.0</td>\n",
       "      <td>3.0</td>\n",
       "      <td>34.189628</td>\n",
       "      <td>...</td>\n",
       "      <td>1937.0</td>\n",
       "      <td>274117.0</td>\n",
       "      <td>913724.0</td>\n",
       "      <td>2016.0</td>\n",
       "      <td>639607.0</td>\n",
       "      <td>10048.09</td>\n",
       "      <td>6.037310e+13</td>\n",
       "      <td>0.030392</td>\n",
       "      <td>2017-01-10</td>\n",
       "      <td>Los Angeles</td>\n",
       "    </tr>\n",
       "    <tr>\n",
       "      <th>65683</th>\n",
       "      <td>10920910</td>\n",
       "      <td>261.0</td>\n",
       "      <td>7.0</td>\n",
       "      <td>2.0</td>\n",
       "      <td>3.0</td>\n",
       "      <td>6.0</td>\n",
       "      <td>1656.0</td>\n",
       "      <td>6037.0</td>\n",
       "      <td>2.0</td>\n",
       "      <td>34.225516</td>\n",
       "      <td>...</td>\n",
       "      <td>1950.0</td>\n",
       "      <td>50745.0</td>\n",
       "      <td>70394.0</td>\n",
       "      <td>2016.0</td>\n",
       "      <td>19649.0</td>\n",
       "      <td>989.63</td>\n",
       "      <td>6.037102e+13</td>\n",
       "      <td>0.671934</td>\n",
       "      <td>2017-08-11</td>\n",
       "      <td>Los Angeles</td>\n",
       "    </tr>\n",
       "    <tr>\n",
       "      <th>40224</th>\n",
       "      <td>11015158</td>\n",
       "      <td>261.0</td>\n",
       "      <td>2.0</td>\n",
       "      <td>4.0</td>\n",
       "      <td>5.0</td>\n",
       "      <td>8.0</td>\n",
       "      <td>2260.0</td>\n",
       "      <td>6037.0</td>\n",
       "      <td>4.0</td>\n",
       "      <td>34.294273</td>\n",
       "      <td>...</td>\n",
       "      <td>1961.0</td>\n",
       "      <td>66668.0</td>\n",
       "      <td>109724.0</td>\n",
       "      <td>2016.0</td>\n",
       "      <td>43056.0</td>\n",
       "      <td>1532.36</td>\n",
       "      <td>6.037107e+13</td>\n",
       "      <td>0.023461</td>\n",
       "      <td>2017-05-26</td>\n",
       "      <td>Los Angeles</td>\n",
       "    </tr>\n",
       "    <tr>\n",
       "      <th>24802</th>\n",
       "      <td>12486065</td>\n",
       "      <td>261.0</td>\n",
       "      <td>7.0</td>\n",
       "      <td>1.0</td>\n",
       "      <td>3.0</td>\n",
       "      <td>4.0</td>\n",
       "      <td>1092.0</td>\n",
       "      <td>6037.0</td>\n",
       "      <td>1.0</td>\n",
       "      <td>33.846405</td>\n",
       "      <td>...</td>\n",
       "      <td>1950.0</td>\n",
       "      <td>100000.0</td>\n",
       "      <td>500000.0</td>\n",
       "      <td>2016.0</td>\n",
       "      <td>400000.0</td>\n",
       "      <td>6113.08</td>\n",
       "      <td>6.037571e+13</td>\n",
       "      <td>0.002005</td>\n",
       "      <td>2017-04-10</td>\n",
       "      <td>Los Angeles</td>\n",
       "    </tr>\n",
       "    <tr>\n",
       "      <th>48312</th>\n",
       "      <td>11071671</td>\n",
       "      <td>261.0</td>\n",
       "      <td>2.0</td>\n",
       "      <td>4.0</td>\n",
       "      <td>4.0</td>\n",
       "      <td>7.0</td>\n",
       "      <td>3473.0</td>\n",
       "      <td>6037.0</td>\n",
       "      <td>4.0</td>\n",
       "      <td>34.265126</td>\n",
       "      <td>...</td>\n",
       "      <td>1983.0</td>\n",
       "      <td>327160.0</td>\n",
       "      <td>768661.0</td>\n",
       "      <td>2016.0</td>\n",
       "      <td>441501.0</td>\n",
       "      <td>9419.42</td>\n",
       "      <td>6.037113e+13</td>\n",
       "      <td>0.098492</td>\n",
       "      <td>2017-06-20</td>\n",
       "      <td>Los Angeles</td>\n",
       "    </tr>\n",
       "  </tbody>\n",
       "</table>\n",
       "<p>5 rows × 28 columns</p>\n",
       "</div>"
      ],
      "text/plain": [
       "       parcelid  propertylandusetypeid  heatingorsystemtypeid  bathroomcnt  \\\n",
       "2002   10947165                  261.0                    2.0          3.0   \n",
       "65683  10920910                  261.0                    7.0          2.0   \n",
       "40224  11015158                  261.0                    2.0          4.0   \n",
       "24802  12486065                  261.0                    7.0          1.0   \n",
       "48312  11071671                  261.0                    2.0          4.0   \n",
       "\n",
       "       bedroomcnt  buildingqualitytypeid  calculatedfinishedsquarefeet  \\\n",
       "2002          3.0                    8.0                        2273.0   \n",
       "65683         3.0                    6.0                        1656.0   \n",
       "40224         5.0                    8.0                        2260.0   \n",
       "24802         3.0                    4.0                        1092.0   \n",
       "48312         4.0                    7.0                        3473.0   \n",
       "\n",
       "         fips  fullbathcnt   latitude  ...  yearbuilt  \\\n",
       "2002   6037.0          3.0  34.189628  ...     1937.0   \n",
       "65683  6037.0          2.0  34.225516  ...     1950.0   \n",
       "40224  6037.0          4.0  34.294273  ...     1961.0   \n",
       "24802  6037.0          1.0  33.846405  ...     1950.0   \n",
       "48312  6037.0          4.0  34.265126  ...     1983.0   \n",
       "\n",
       "       structuretaxvaluedollarcnt taxvaluedollarcnt  assessmentyear  \\\n",
       "2002                     274117.0          913724.0          2016.0   \n",
       "65683                     50745.0           70394.0          2016.0   \n",
       "40224                     66668.0          109724.0          2016.0   \n",
       "24802                    100000.0          500000.0          2016.0   \n",
       "48312                    327160.0          768661.0          2016.0   \n",
       "\n",
       "       landtaxvaluedollarcnt  taxamount  censustractandblock  logerror  \\\n",
       "2002                639607.0   10048.09         6.037310e+13  0.030392   \n",
       "65683                19649.0     989.63         6.037102e+13  0.671934   \n",
       "40224                43056.0    1532.36         6.037107e+13  0.023461   \n",
       "24802               400000.0    6113.08         6.037571e+13  0.002005   \n",
       "48312               441501.0    9419.42         6.037113e+13  0.098492   \n",
       "\n",
       "            tdate       county  \n",
       "2002   2017-01-10  Los Angeles  \n",
       "65683  2017-08-11  Los Angeles  \n",
       "40224  2017-05-26  Los Angeles  \n",
       "24802  2017-04-10  Los Angeles  \n",
       "48312  2017-06-20  Los Angeles  \n",
       "\n",
       "[5 rows x 28 columns]"
      ]
     },
     "execution_count": 16,
     "metadata": {},
     "output_type": "execute_result"
    }
   ],
   "source": [
    "train.head()"
   ]
  },
  {
   "cell_type": "code",
   "execution_count": 18,
   "metadata": {},
   "outputs": [
    {
     "data": {
      "text/html": [
       "<div>\n",
       "<style scoped>\n",
       "    .dataframe tbody tr th:only-of-type {\n",
       "        vertical-align: middle;\n",
       "    }\n",
       "\n",
       "    .dataframe tbody tr th {\n",
       "        vertical-align: top;\n",
       "    }\n",
       "\n",
       "    .dataframe thead th {\n",
       "        text-align: right;\n",
       "    }\n",
       "</style>\n",
       "<table border=\"1\" class=\"dataframe\">\n",
       "  <thead>\n",
       "    <tr style=\"text-align: right;\">\n",
       "      <th></th>\n",
       "      <th>parcelid</th>\n",
       "      <th>propertylandusetypeid</th>\n",
       "      <th>heatingorsystemtypeid</th>\n",
       "      <th>bathroomcnt</th>\n",
       "      <th>bedroomcnt</th>\n",
       "      <th>buildingqualitytypeid</th>\n",
       "      <th>calculatedfinishedsquarefeet</th>\n",
       "      <th>fips</th>\n",
       "      <th>fullbathcnt</th>\n",
       "      <th>latitude</th>\n",
       "      <th>...</th>\n",
       "      <th>yearbuilt</th>\n",
       "      <th>structuretaxvaluedollarcnt</th>\n",
       "      <th>taxvaluedollarcnt</th>\n",
       "      <th>assessmentyear</th>\n",
       "      <th>landtaxvaluedollarcnt</th>\n",
       "      <th>taxamount</th>\n",
       "      <th>censustractandblock</th>\n",
       "      <th>logerror</th>\n",
       "      <th>tdate</th>\n",
       "      <th>county</th>\n",
       "    </tr>\n",
       "  </thead>\n",
       "  <tbody>\n",
       "    <tr>\n",
       "      <th>2002</th>\n",
       "      <td>10947165</td>\n",
       "      <td>261.0</td>\n",
       "      <td>2.0</td>\n",
       "      <td>3.0</td>\n",
       "      <td>3.0</td>\n",
       "      <td>8.0</td>\n",
       "      <td>2273.0</td>\n",
       "      <td>6037.0</td>\n",
       "      <td>3.0</td>\n",
       "      <td>34.189628</td>\n",
       "      <td>...</td>\n",
       "      <td>1937.0</td>\n",
       "      <td>274117.0</td>\n",
       "      <td>913724.0</td>\n",
       "      <td>2016.0</td>\n",
       "      <td>639607.0</td>\n",
       "      <td>10048.09</td>\n",
       "      <td>6.037310e+13</td>\n",
       "      <td>0.030392</td>\n",
       "      <td>2017-01-10</td>\n",
       "      <td>Los Angeles</td>\n",
       "    </tr>\n",
       "    <tr>\n",
       "      <th>65683</th>\n",
       "      <td>10920910</td>\n",
       "      <td>261.0</td>\n",
       "      <td>7.0</td>\n",
       "      <td>2.0</td>\n",
       "      <td>3.0</td>\n",
       "      <td>6.0</td>\n",
       "      <td>1656.0</td>\n",
       "      <td>6037.0</td>\n",
       "      <td>2.0</td>\n",
       "      <td>34.225516</td>\n",
       "      <td>...</td>\n",
       "      <td>1950.0</td>\n",
       "      <td>50745.0</td>\n",
       "      <td>70394.0</td>\n",
       "      <td>2016.0</td>\n",
       "      <td>19649.0</td>\n",
       "      <td>989.63</td>\n",
       "      <td>6.037102e+13</td>\n",
       "      <td>0.671934</td>\n",
       "      <td>2017-08-11</td>\n",
       "      <td>Los Angeles</td>\n",
       "    </tr>\n",
       "    <tr>\n",
       "      <th>40224</th>\n",
       "      <td>11015158</td>\n",
       "      <td>261.0</td>\n",
       "      <td>2.0</td>\n",
       "      <td>4.0</td>\n",
       "      <td>5.0</td>\n",
       "      <td>8.0</td>\n",
       "      <td>2260.0</td>\n",
       "      <td>6037.0</td>\n",
       "      <td>4.0</td>\n",
       "      <td>34.294273</td>\n",
       "      <td>...</td>\n",
       "      <td>1961.0</td>\n",
       "      <td>66668.0</td>\n",
       "      <td>109724.0</td>\n",
       "      <td>2016.0</td>\n",
       "      <td>43056.0</td>\n",
       "      <td>1532.36</td>\n",
       "      <td>6.037107e+13</td>\n",
       "      <td>0.023461</td>\n",
       "      <td>2017-05-26</td>\n",
       "      <td>Los Angeles</td>\n",
       "    </tr>\n",
       "    <tr>\n",
       "      <th>24802</th>\n",
       "      <td>12486065</td>\n",
       "      <td>261.0</td>\n",
       "      <td>7.0</td>\n",
       "      <td>1.0</td>\n",
       "      <td>3.0</td>\n",
       "      <td>4.0</td>\n",
       "      <td>1092.0</td>\n",
       "      <td>6037.0</td>\n",
       "      <td>1.0</td>\n",
       "      <td>33.846405</td>\n",
       "      <td>...</td>\n",
       "      <td>1950.0</td>\n",
       "      <td>100000.0</td>\n",
       "      <td>500000.0</td>\n",
       "      <td>2016.0</td>\n",
       "      <td>400000.0</td>\n",
       "      <td>6113.08</td>\n",
       "      <td>6.037571e+13</td>\n",
       "      <td>0.002005</td>\n",
       "      <td>2017-04-10</td>\n",
       "      <td>Los Angeles</td>\n",
       "    </tr>\n",
       "    <tr>\n",
       "      <th>48312</th>\n",
       "      <td>11071671</td>\n",
       "      <td>261.0</td>\n",
       "      <td>2.0</td>\n",
       "      <td>4.0</td>\n",
       "      <td>4.0</td>\n",
       "      <td>7.0</td>\n",
       "      <td>3473.0</td>\n",
       "      <td>6037.0</td>\n",
       "      <td>4.0</td>\n",
       "      <td>34.265126</td>\n",
       "      <td>...</td>\n",
       "      <td>1983.0</td>\n",
       "      <td>327160.0</td>\n",
       "      <td>768661.0</td>\n",
       "      <td>2016.0</td>\n",
       "      <td>441501.0</td>\n",
       "      <td>9419.42</td>\n",
       "      <td>6.037113e+13</td>\n",
       "      <td>0.098492</td>\n",
       "      <td>2017-06-20</td>\n",
       "      <td>Los Angeles</td>\n",
       "    </tr>\n",
       "  </tbody>\n",
       "</table>\n",
       "<p>5 rows × 28 columns</p>\n",
       "</div>"
      ],
      "text/plain": [
       "       parcelid  propertylandusetypeid  heatingorsystemtypeid  bathroomcnt  \\\n",
       "2002   10947165                  261.0                    2.0          3.0   \n",
       "65683  10920910                  261.0                    7.0          2.0   \n",
       "40224  11015158                  261.0                    2.0          4.0   \n",
       "24802  12486065                  261.0                    7.0          1.0   \n",
       "48312  11071671                  261.0                    2.0          4.0   \n",
       "\n",
       "       bedroomcnt  buildingqualitytypeid  calculatedfinishedsquarefeet  \\\n",
       "2002          3.0                    8.0                        2273.0   \n",
       "65683         3.0                    6.0                        1656.0   \n",
       "40224         5.0                    8.0                        2260.0   \n",
       "24802         3.0                    4.0                        1092.0   \n",
       "48312         4.0                    7.0                        3473.0   \n",
       "\n",
       "         fips  fullbathcnt   latitude  ...  yearbuilt  \\\n",
       "2002   6037.0          3.0  34.189628  ...     1937.0   \n",
       "65683  6037.0          2.0  34.225516  ...     1950.0   \n",
       "40224  6037.0          4.0  34.294273  ...     1961.0   \n",
       "24802  6037.0          1.0  33.846405  ...     1950.0   \n",
       "48312  6037.0          4.0  34.265126  ...     1983.0   \n",
       "\n",
       "       structuretaxvaluedollarcnt taxvaluedollarcnt  assessmentyear  \\\n",
       "2002                     274117.0          913724.0          2016.0   \n",
       "65683                     50745.0           70394.0          2016.0   \n",
       "40224                     66668.0          109724.0          2016.0   \n",
       "24802                    100000.0          500000.0          2016.0   \n",
       "48312                    327160.0          768661.0          2016.0   \n",
       "\n",
       "       landtaxvaluedollarcnt  taxamount  censustractandblock  logerror  \\\n",
       "2002                639607.0   10048.09         6.037310e+13  0.030392   \n",
       "65683                19649.0     989.63         6.037102e+13  0.671934   \n",
       "40224                43056.0    1532.36         6.037107e+13  0.023461   \n",
       "24802               400000.0    6113.08         6.037571e+13  0.002005   \n",
       "48312               441501.0    9419.42         6.037113e+13  0.098492   \n",
       "\n",
       "            tdate       county  \n",
       "2002   2017-01-10  Los Angeles  \n",
       "65683  2017-08-11  Los Angeles  \n",
       "40224  2017-05-26  Los Angeles  \n",
       "24802  2017-04-10  Los Angeles  \n",
       "48312  2017-06-20  Los Angeles  \n",
       "\n",
       "[5 rows x 28 columns]"
      ]
     },
     "execution_count": 18,
     "metadata": {},
     "output_type": "execute_result"
    }
   ],
   "source": [
    "# now filling the in the missing values, only on train.\n",
    "\n",
    "train, validate, test = wrangle.impute_missing_values_all(train, validate, test)\n",
    "train.head()"
   ]
  },
  {
   "cell_type": "code",
   "execution_count": 19,
   "metadata": {},
   "outputs": [
    {
     "data": {
      "text/plain": [
       "parcelid                        0\n",
       "propertylandusetypeid           0\n",
       "heatingorsystemtypeid           0\n",
       "bathroomcnt                     0\n",
       "bedroomcnt                      0\n",
       "buildingqualitytypeid           0\n",
       "calculatedfinishedsquarefeet    0\n",
       "fips                            0\n",
       "fullbathcnt                     0\n",
       "latitude                        0\n",
       "longitude                       0\n",
       "lotsizesquarefeet               0\n",
       "propertycountylandusecode       0\n",
       "regionidcity                    0\n",
       "regionidcounty                  0\n",
       "regionidzip                     0\n",
       "roomcnt                         0\n",
       "unitcnt                         0\n",
       "yearbuilt                       0\n",
       "structuretaxvaluedollarcnt      0\n",
       "taxvaluedollarcnt               0\n",
       "assessmentyear                  0\n",
       "landtaxvaluedollarcnt           0\n",
       "taxamount                       0\n",
       "censustractandblock             0\n",
       "logerror                        0\n",
       "tdate                           0\n",
       "county                          0\n",
       "dtype: int64"
      ]
     },
     "execution_count": 19,
     "metadata": {},
     "output_type": "execute_result"
    }
   ],
   "source": [
    "# Missing values appear to be taken care of...\n",
    "\n",
    "train.isnull().sum()"
   ]
  },
  {
   "cell_type": "markdown",
   "metadata": {},
   "source": [
    "## End of prep:\n",
    "\n",
    "- All missing values accounted for\n",
    "- All columns still in dataframe are ones I need for analysis\n",
    "- Data not yet scaled, need to accomplish this before moving on with rest of Explore stage\n",
    "\n",
    "## *Outliers still need to be dealt with after the MVP is complete*"
   ]
  },
  {
   "cell_type": "markdown",
   "metadata": {},
   "source": [
    "# Explore Stage"
   ]
  },
  {
   "cell_type": "markdown",
   "metadata": {},
   "source": [
    "- Based on Faith's advice for the MVP, I will be exploring based upon unscaled train, validate, and test data.\n",
    "- However, when it comes time to model, I'll need to scale the data. I would prefer to have that step completed at end of prep, so will add scaling section here\n",
    "### y_train ==  `logerror`"
   ]
  },
  {
   "cell_type": "code",
   "execution_count": 20,
   "metadata": {},
   "outputs": [
    {
     "data": {
      "text/plain": [
       "<AxesSubplot:xlabel='calculatedfinishedsquarefeet', ylabel='logerror'>"
      ]
     },
     "execution_count": 20,
     "metadata": {},
     "output_type": "execute_result"
    },
    {
     "data": {
      "image/png": "[encoded data removed]",
      "text/plain": [
       "<Figure size 432x288 with 1 Axes>"
      ]
     },
     "metadata": {
      "needs_background": "light"
     },
     "output_type": "display_data"
    }
   ],
   "source": [
    "# For a simple visual answer, I'm going to use a scatterplot, with logerror being the value.\n",
    "\n",
    "sns.scatterplot(x = 'calculatedfinishedsquarefeet', y = 'logerror', data = train, hue = 'county')"
   ]
  },
  {
   "cell_type": "code",
   "execution_count": 21,
   "metadata": {},
   "outputs": [],
   "source": [
    "# Are there any features that I want to create from the existing data? Any I want to take away?\n",
    "# First let's check the distributions of the existing cleaned columns:"
   ]
  },
  {
   "cell_type": "code",
   "execution_count": 22,
   "metadata": {
    "scrolled": false
   },
   "outputs": [
    {
     "data": {
      "image/png": "[encoded data removed]",
      "text/plain": [
       "<Figure size 288x144 with 1 Axes>"
      ]
     },
     "metadata": {
      "needs_background": "light"
     },
     "output_type": "display_data"
    },
    {
     "data": {
      "image/png": "[encoded data removed]",
      "text/plain": [
       "<Figure size 288x144 with 1 Axes>"
      ]
     },
     "metadata": {
      "needs_background": "light"
     },
     "output_type": "display_data"
    },
    {
     "data": {
      "image/png": "[encoded data removed]",
      "text/plain": [
       "<Figure size 288x144 with 1 Axes>"
      ]
     },
     "metadata": {
      "needs_background": "light"
     },
     "output_type": "display_data"
    },
    {
     "data": {
      "image/png": "[encoded data removed]",
      "text/plain": [
       "<Figure size 288x144 with 1 Axes>"
      ]
     },
     "metadata": {
      "needs_background": "light"
     },
     "output_type": "display_data"
    },
    {
     "data": {
      "image/png": "[encoded data removed]",
      "text/plain": [
       "<Figure size 288x144 with 1 Axes>"
      ]
     },
     "metadata": {
      "needs_background": "light"
     },
     "output_type": "display_data"
    },
    {
     "data": {
      "image/png": "[encoded data removed]",
      "text/plain": [
       "<Figure size 288x144 with 1 Axes>"
      ]
     },
     "metadata": {
      "needs_background": "light"
     },
     "output_type": "display_data"
    },
    {
     "data": {
      "image/png": "[encoded data removed]",
      "text/plain": [
       "<Figure size 288x144 with 1 Axes>"
      ]
     },
     "metadata": {
      "needs_background": "light"
     },
     "output_type": "display_data"
    },
    {
     "data": {
      "image/png": "[encoded data removed]",
      "text/plain": [
       "<Figure size 288x144 with 1 Axes>"
      ]
     },
     "metadata": {
      "needs_background": "light"
     },
     "output_type": "display_data"
    },
    {
     "data": {
      "image/png": "[encoded data removed]",
      "text/plain": [
       "<Figure size 288x144 with 1 Axes>"
      ]
     },
     "metadata": {
      "needs_background": "light"
     },
     "output_type": "display_data"
    },
    {
     "data": {
      "image/png": "[encoded data removed]",
      "text/plain": [
       "<Figure size 288x144 with 1 Axes>"
      ]
     },
     "metadata": {
      "needs_background": "light"
     },
     "output_type": "display_data"
    },
    {
     "data": {
      "image/png": "[encoded data removed]",
      "text/plain": [
       "<Figure size 288x144 with 1 Axes>"
      ]
     },
     "metadata": {
      "needs_background": "light"
     },
     "output_type": "display_data"
    },
    {
     "data": {
      "image/png": "[encoded data removed]",
      "text/plain": [
       "<Figure size 288x144 with 1 Axes>"
      ]
     },
     "metadata": {
      "needs_background": "light"
     },
     "output_type": "display_data"
    },
    {
     "data": {
      "image/png": "[encoded data removed]",
      "text/plain": [
       "<Figure size 288x144 with 1 Axes>"
      ]
     },
     "metadata": {
      "needs_background": "light"
     },
     "output_type": "display_data"
    },
    {
     "data": {
      "image/png": "[encoded data removed]",
      "text/plain": [
       "<Figure size 288x144 with 1 Axes>"
      ]
     },
     "metadata": {
      "needs_background": "light"
     },
     "output_type": "display_data"
    },
    {
     "data": {
      "image/png": "[encoded data removed]",
      "text/plain": [
       "<Figure size 288x144 with 1 Axes>"
      ]
     },
     "metadata": {
      "needs_background": "light"
     },
     "output_type": "display_data"
    },
    {
     "data": {
      "image/png": "[encoded data removed]",
      "text/plain": [
       "<Figure size 288x144 with 1 Axes>"
      ]
     },
     "metadata": {
      "needs_background": "light"
     },
     "output_type": "display_data"
    },
    {
     "data": {
      "image/png": "[encoded data removed]",
      "text/plain": [
       "<Figure size 288x144 with 1 Axes>"
      ]
     },
     "metadata": {
      "needs_background": "light"
     },
     "output_type": "display_data"
    },
    {
     "data": {
      "image/png": "[encoded data removed]",
      "text/plain": [
       "<Figure size 288x144 with 1 Axes>"
      ]
     },
     "metadata": {
      "needs_background": "light"
     },
     "output_type": "display_data"
    },
    {
     "data": {
      "image/png": "[encoded data removed]",
      "text/plain": [
       "<Figure size 288x144 with 1 Axes>"
      ]
     },
     "metadata": {
      "needs_background": "light"
     },
     "output_type": "display_data"
    },
    {
     "data": {
      "image/png": "[encoded data removed]",
      "text/plain": [
       "<Figure size 288x144 with 1 Axes>"
      ]
     },
     "metadata": {
      "needs_background": "light"
     },
     "output_type": "display_data"
    },
    {
     "data": {
      "image/png": "[encoded data removed]",
      "text/plain": [
       "<Figure size 288x144 with 1 Axes>"
      ]
     },
     "metadata": {
      "needs_background": "light"
     },
     "output_type": "display_data"
    },
    {
     "data": {
      "image/png": "[encoded data removed]",
      "text/plain": [
       "<Figure size 288x144 with 1 Axes>"
      ]
     },
     "metadata": {
      "needs_background": "light"
     },
     "output_type": "display_data"
    },
    {
     "data": {
      "image/png": "[encoded data removed]",
      "text/plain": [
       "<Figure size 288x144 with 1 Axes>"
      ]
     },
     "metadata": {
      "needs_background": "light"
     },
     "output_type": "display_data"
    },
    {
     "data": {
      "image/png": "[encoded data removed]",
      "text/plain": [
       "<Figure size 288x144 with 1 Axes>"
      ]
     },
     "metadata": {
      "needs_background": "light"
     },
     "output_type": "display_data"
    },
    {
     "data": {
      "image/png": "[encoded data removed]",
      "text/plain": [
       "<Figure size 288x144 with 1 Axes>"
      ]
     },
     "metadata": {
      "needs_background": "light"
     },
     "output_type": "display_data"
    },
    {
     "data": {
      "image/png": "[encoded data removed]",
      "text/plain": [
       "<Figure size 288x144 with 1 Axes>"
      ]
     },
     "metadata": {
      "needs_background": "light"
     },
     "output_type": "display_data"
    },
    {
     "data": {
      "image/png": "[encoded data removed]",
      "text/plain": [
       "<Figure size 288x144 with 1 Axes>"
      ]
     },
     "metadata": {
      "needs_background": "light"
     },
     "output_type": "display_data"
    },
    {
     "data": {
      "image/png": "[encoded data removed]",
      "text/plain": [
       "<Figure size 288x144 with 1 Axes>"
      ]
     },
     "metadata": {
      "needs_background": "light"
     },
     "output_type": "display_data"
    }
   ],
   "source": [
    "for col in train.columns:\n",
    "    plt.figure(figsize=(4,2))\n",
    "    plt.hist(train[col])\n",
    "    plt.title(col)\n",
    "    plt.show()"
   ]
  },
  {
   "cell_type": "markdown",
   "metadata": {},
   "source": [
    "### Questions:\n",
    "\n",
    "- Do I need to bin anything?\n",
    "- What is the average tax rate per county?\n",
    "- combine tax amount and square feet by county and compare\n",
    "- "
   ]
  },
  {
   "cell_type": "code",
   "execution_count": 27,
   "metadata": {},
   "outputs": [
    {
     "data": {
      "text/plain": [
       "(77381, 70)"
      ]
     },
     "execution_count": 27,
     "metadata": {},
     "output_type": "execute_result"
    }
   ],
   "source": [
    "test_df = wrangle.get_zillow_data()\n",
    "test_df.shape"
   ]
  },
  {
   "cell_type": "code",
   "execution_count": 28,
   "metadata": {},
   "outputs": [
    {
     "data": {
      "text/plain": [
       "<AxesSubplot:>"
      ]
     },
     "execution_count": 28,
     "metadata": {},
     "output_type": "execute_result"
    },
    {
     "data": {
      "image/png": "[encoded data removed]",
      "text/plain": [
       "<Figure size 792x648 with 2 Axes>"
      ]
     },
     "metadata": {
      "needs_background": "light"
     },
     "output_type": "display_data"
    }
   ],
   "source": [
    "corr = test_df.corr()\n",
    "# Generate a mask for the upper triangle\n",
    "mask = np.triu(np.ones_like(corr, dtype=bool))\n",
    "# Set up the matplotlib figure\n",
    "f, ax = plt.subplots(figsize=(11, 9))\n",
    "# Generate a custom diverging colormap\n",
    "cmap = sns.diverging_palette(500, 20, as_cmap=True)\n",
    "# Draw the heatmap with the mask and correct aspect ratio\n",
    "sns.heatmap(corr, mask=mask, cmap=cmap, vmax=.3, center=0,\n",
    "            square=True, linewidths=.5, cbar_kws={\"shrink\": .5})"
   ]
  },
  {
   "cell_type": "code",
   "execution_count": 29,
   "metadata": {},
   "outputs": [
    {
     "data": {
      "text/plain": [
       "<AxesSubplot:>"
      ]
     },
     "execution_count": 29,
     "metadata": {},
     "output_type": "execute_result"
    },
    {
     "data": {
      "image/png": "[encoded data removed]",
      "text/plain": [
       "<Figure size 792x648 with 2 Axes>"
      ]
     },
     "metadata": {
      "needs_background": "light"
     },
     "output_type": "display_data"
    }
   ],
   "source": [
    "corr = train.corr()\n",
    "# Generate a mask for the upper triangle\n",
    "mask = np.triu(np.ones_like(corr, dtype=bool))\n",
    "# Set up the matplotlib figure\n",
    "f, ax = plt.subplots(figsize=(11, 9))\n",
    "# Generate a custom diverging colormap\n",
    "cmap = sns.diverging_palette(500, 20, as_cmap=True)\n",
    "# Draw the heatmap with the mask and correct aspect ratio\n",
    "sns.heatmap(corr, mask=mask, cmap=cmap, vmax=.3, center=0,\n",
    "            square=True, linewidths=.5, cbar_kws={\"shrink\": .5})"
   ]
  },
  {
   "cell_type": "markdown",
   "metadata": {},
   "source": [
    "This correlation matrix usually provides some hints as to which features are statistically correlated to the target variable, ie `logerror` in this case..."
   ]
  },
  {
   "cell_type": "code",
   "execution_count": 30,
   "metadata": {},
   "outputs": [
    {
     "data": {
      "text/plain": [
       "<AxesSubplot:xlabel='county', ylabel='logerror'>"
      ]
     },
     "execution_count": 30,
     "metadata": {},
     "output_type": "execute_result"
    },
    {
     "data": {
      "image/png": "[encoded data removed]",
      "text/plain": [
       "<Figure size 432x288 with 1 Axes>"
      ]
     },
     "metadata": {
      "needs_background": "light"
     },
     "output_type": "display_data"
    }
   ],
   "source": [
    "sns.barplot(data = train, x = 'county', y = 'logerror')"
   ]
  },
  {
   "cell_type": "code",
   "execution_count": null,
   "metadata": {},
   "outputs": [],
   "source": [
    "# So log error is higher in orange county...? Interesting.\n",
    "\n",
    "# What types of houses are predominant in Orange county? Low priced, high priced, normal \"family\" priced homes?\n",
    "\n",
    "# Is the model worse at predicting middle income type homes, and better at the outliers?\n",
    "\n"
   ]
  },
  {
   "cell_type": "code",
   "execution_count": null,
   "metadata": {},
   "outputs": [],
   "source": [
    "# going to try binning the independent variables.\n",
    "# Trying by using qcut and cut and... there was a third way.\n",
    "\n"
   ]
  },
  {
   "cell_type": "code",
   "execution_count": null,
   "metadata": {},
   "outputs": [],
   "source": []
  },
  {
   "cell_type": "code",
   "execution_count": null,
   "metadata": {},
   "outputs": [],
   "source": []
  },
  {
   "cell_type": "code",
   "execution_count": null,
   "metadata": {},
   "outputs": [],
   "source": [
    "# Doing what I can remember to do: Clustering. Following the process I learned in class.\n",
    "\n",
    "\n"
   ]
  }
 ],
 "metadata": {
  "kernelspec": {
   "display_name": "Python 3",
   "language": "python",
   "name": "python3"
  },
  "language_info": {
   "codemirror_mode": {
    "name": "ipython",
    "version": 3
   },
   "file_extension": ".py",
   "mimetype": "text/x-python",
   "name": "python",
   "nbconvert_exporter": "python",
   "pygments_lexer": "ipython3",
   "version": "3.7.9"
  }
 },
 "nbformat": 4,
 "nbformat_minor": 4
}
